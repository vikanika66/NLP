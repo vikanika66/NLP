{
 "cells": [
  {
   "cell_type": "code",
   "execution_count": 21,
   "metadata": {
    "pycharm": {
     "is_executing": false
    }
   },
   "outputs": [],
   "source": [
    "from preprocess import preprocessing\n",
    "from compute_result import compute_tfidf\n",
    "from get_corpus import get_corpus\n",
    "from term_extract import extract_terms\n",
    "from get_sentiment import get_sentiment\n",
    "from prepocess_word import preprocess\n",
    "from f_measure import get_score\n",
    "from bs4 import BeautifulSoup\n",
    "KEYWORD_AMOUNT = 6"
   ]
  },
  {
   "cell_type": "code",
   "execution_count": 22,
   "metadata": {},
   "outputs": [],
   "source": [
    "import time\n"
   ]
  },
  {
   "cell_type": "code",
   "execution_count": 23,
   "metadata": {},
   "outputs": [
    {
     "name": "stdout",
     "output_type": "stream",
     "text": [
      "--- 77.83349347114563 seconds ---\n"
     ]
    }
   ],
   "source": [
    "start_time = time.time()\n",
    "\n",
    "algo_list = []\n",
    "human_list = []\n",
    "document_to_process = []\n",
    "f = open('data/keywords.txt')\n",
    "lines = f.readlines()\n",
    "for i in range(0, len(lines)):\n",
    "    if i % 7 == 0:\n",
    "        lines[i] = lines[i].strip()\n",
    "        document_to_process.append(lines[i])\n",
    "    else:\n",
    "        lines[i] = lines[i].strip()\n",
    "        human_list.append(preprocess(lines[i]))\n",
    "f.close()\n",
    "print(\"--- %s seconds ---\" % (time.time() - start_time))"
   ]
  },
  {
   "cell_type": "code",
   "execution_count": 27,
   "metadata": {},
   "outputs": [
    {
     "name": "stdout",
     "output_type": "stream",
     "text": [
      "(0.38095238095238093, 0.5783132530120482, 0.4593301435406698)\n",
      "--- 88.36777639389038 seconds ---\n"
     ]
    }
   ],
   "source": [
    "start_time = time.time()\n",
    "\n",
    "for doc_name in document_to_process:\n",
    "    doc = preprocessing(doc_name)\n",
    "    keywords = compute_tfidf(get_corpus(), doc, KEYWORD_AMOUNT)\n",
    "    for k in keywords:\n",
    "        algo_list.append(k)\n",
    "print(get_score(human_list, algo_list))\n",
    "print(\"--- %s seconds ---\" % (time.time() - start_time))"
   ]
  },
  {
   "cell_type": "code",
   "execution_count": 25,
   "metadata": {},
   "outputs": [
    {
     "name": "stdout",
     "output_type": "stream",
     "text": [
      "оргкомитет 14\n",
      "маклер 13\n",
      "продавец 12\n",
      "лот 6\n",
      "участники конкурса 5\n",
      "настоящий договор 5\n",
      "товар 23\n",
      "имущество 22\n",
      "настоящий договор 18\n",
      "покупатель 10\n",
      "продавец 9\n",
      "другая сторона 6\n",
      "г 7\n",
      "руб 4\n",
      "грузополучатель 4\n",
      "представитель 3\n",
      "перевозимый груз 2\n",
      "взаимные расчёты 2\n",
      "чество 4\n",
      "количество 4\n",
      "дата 4\n",
      "no 4\n",
      "представитель поставщика 3\n",
      "сумма 3\n",
      "узлы 45\n",
      "исполнитель 43\n",
      "заказчик 41\n",
      "детали 30\n",
      "ремонт 21\n",
      "количество 19\n",
      "поставщик 25\n",
      "покупатель 22\n",
      "дни 11\n",
      "товар 7\n",
      "тара 6\n",
      "стоимость 5\n",
      "арендатор 30\n",
      "земельный участок 26\n",
      "арендодатель 25\n",
      "договор 23\n",
      "арендная плата 20\n",
      "право 15\n",
      "покупатель 15\n",
      "продавец 13\n",
      "настоящий договор 12\n",
      "договор 10\n",
      "ооо 9\n",
      "денежные средство 5\n",
      "настоящий договор 4\n",
      "ф 4\n",
      "москва 4\n",
      "м 4\n",
      "количество 4\n",
      "федоты 3\n",
      "(0.38095238095238093, 0.4067796610169492, 0.39344262295081966)\n",
      "--- 5.2631676197052 seconds ---\n"
     ]
    }
   ],
   "source": [
    "start_time = time.time()\n",
    "\n",
    "for doc_name in document_to_process:\n",
    "    html_report_part1 = open(doc_name, 'r')\n",
    "    soup = BeautifulSoup(html_report_part1, 'html.parser')\n",
    "    terms = extract_terms(soup.get_text(), KEYWORD_AMOUNT)\n",
    "    algo_list.append(terms)\n",
    "print(get_score(human_list, algo_list))\n",
    "print(\"--- %s seconds ---\" % (time.time() - start_time))"
   ]
  },
  {
   "cell_type": "code",
   "execution_count": 26,
   "metadata": {},
   "outputs": [
    {
     "name": "stdout",
     "output_type": "stream",
     "text": [
      "конкурс 27\n",
      "оргкомитет 24\n",
      "продавец 13\n",
      "маклер 13\n",
      "сделка 12\n",
      "покупатель 12\n",
      "сторона 25\n",
      "товар 24\n",
      "договор 24\n",
      "имущество 22\n",
      "настоящий договор 17\n",
      "покупатель 13\n",
      "груз 6\n",
      "результат 4\n",
      "представитель 4\n",
      "перевозка 4\n",
      "автотранспортный предприятие 3\n",
      "счёт 3\n",
      "сумма 6\n",
      "продукция 6\n",
      "поставщик 6\n",
      "дата 6\n",
      "приёмка 5\n",
      "наименование 5\n",
      "исполнитель 63\n",
      "заказчик 50\n",
      "узел 47\n",
      "деталь 47\n",
      "агрегат 41\n",
      "ремонт 34\n",
      "товар 43\n",
      "покупатель 28\n",
      "поставщик 27\n",
      "поставка 17\n",
      "срок 15\n",
      "день 11\n",
      "договор 70\n",
      "арендатор 52\n",
      "право 39\n",
      "земельный участок 33\n",
      "арендодатель 33\n",
      "участок 32\n",
      "продавец 29\n",
      "покупатель 23\n",
      "настоящий договор 17\n",
      "сторона 16\n",
      "срок 14\n",
      "доля 10\n",
      "настоящий договор 4\n",
      "москва 4\n",
      "количество 3\n",
      "строительный материал 2\n",
      "экземпляр 2\n",
      "федоты 2\n",
      "(0.3333333333333333, 0.4067796610169492, 0.366412213740458)\n",
      "--- 17.044514894485474 seconds ---\n"
     ]
    }
   ],
   "source": [
    "start_time = time.time()\n",
    "\n",
    "for doc_name in document_to_process:\n",
    "    doc = preprocessing(doc_name)    \n",
    "    terms = extract_terms(doc, KEYWORD_AMOUNT)\n",
    "    algo_list.append(terms)\n",
    "print(get_score(human_list, algo_list))\n",
    "print(\"--- %s seconds ---\" % (time.time() - start_time))"
   ]
  },
  {
   "cell_type": "code",
   "execution_count": null,
   "metadata": {},
   "outputs": [],
   "source": []
  }
 ],
 "metadata": {
  "kernelspec": {
   "display_name": "Python 3",
   "language": "python",
   "name": "python3"
  },
  "language_info": {
   "codemirror_mode": {
    "name": "ipython",
    "version": 3
   },
   "file_extension": ".py",
   "mimetype": "text/x-python",
   "name": "python",
   "nbconvert_exporter": "python",
   "pygments_lexer": "ipython3",
   "version": "3.7.3"
  }
 },
 "nbformat": 4,
 "nbformat_minor": 1
}
